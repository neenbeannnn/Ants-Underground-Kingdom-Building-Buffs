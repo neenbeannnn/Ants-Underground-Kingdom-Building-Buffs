{
  "cells": [
    {
      "cell_type": "code",
      "execution_count": 1,
      "metadata": {
        "trusted": true
      },
      "outputs": [],
      "source": [
        "import pandas as pd\n",
        "import os\n",
        "\n",
        "df = pd.read_csv('LostIslandBuildings.csv')\n",
        "\n",
        "#Rename Color / Area column to be Color\n",
        "df.rename(columns={'Color / Area': 'Color'}, inplace=True)\n",
        "\n",
        "#Separate Coordinates into X-Coord and Y-Coord\n",
        "df[['X-Coord', 'Y-Coord']] = df['Coordinates'].str.split(' ', expand=True)\n",
        "df = df.drop('Coordinates', axis=1)\n",
        "df['X-Coord'] = df['X-Coord'].str[2:]\n",
        "df['Y-Coord'] = df['Y-Coord'].str[2:]\n",
        "\n",
        "#Separate Buff Percent into categories\n",
        "buffCategories = ['HP Guardian', 'HP Shooter', 'HP Carrier', 'ATK Guardian', 'ATK Shooter', 'ATK Carrier', 'DEF Guardian', 'DEF Shooter', 'DEF Carrier']\n",
        "\n",
        "for i in range(len(buffCategories)):\n",
        "    df[buffCategories[i]] = df['Buff Percent'].apply(lambda x: x.split(' ')[0] if buffCategories[i] in x else 0)\n",
        "\n",
        "#Separate Buff Percent into categories for Wonders\n",
        "wonderCondition = df['Alliance Influence'] == '25,000'\n",
        "wonderRowsOnly = df.loc[wonderCondition, :]\n",
        "wonderRowBuffs = ['3.6%', '3.6%', '3.6%', '9%', '9%', '9%', '9%', '9%', '9%']\n",
        "for i in range(len(buffCategories)):\n",
        "    df.loc[wonderCondition, buffCategories[i]] = wonderRowBuffs[i]\n",
        "df.loc[wonderCondition, buffCategories] = wonderRowsOnly[buffCategories]\n",
        "\n",
        "df = df.drop('Buff Percent', axis=1)\n",
        "\n",
        "#Separate Soldier Production into categories\n",
        "productionCategories = ['Guardian', 'Shooter', 'Carrier']\n",
        "\n",
        "for i in range(len(productionCategories)):\n",
        "    df[productionCategories[i] + ' Output'] = df['Soldier Production'].apply(lambda x: x.split(' ')[0] if productionCategories[i] in x else 0)\n",
        "\n",
        "#Separate Soldier Production for Wonders\n",
        "wonderRowProduction = ['44/h', '44/h', '44/h']\n",
        "productionCategoriesRenamed = ['Guardian Output', 'Shooter Output', 'Carrier Output']\n",
        "for i in range(len(productionCategoriesRenamed)):\n",
        "    wonderRowsOnly[productionCategoriesRenamed[i]] = wonderRowProduction[i]\n",
        "df.loc[wonderCondition, productionCategoriesRenamed] = wonderRowsOnly[productionCategoriesRenamed]\n",
        "\n",
        "df = df.drop('Soldier Production', axis=1)\n",
        "\n",
        "#Rename Buildings to Building\n",
        "df.rename(columns={'Buildings': 'Building'}, inplace=True)\n",
        "\n",
        "#Formatting\n",
        "df = df.apply(lambda x: x.str.replace('%', '', regex=True))\n",
        "df = df.apply(lambda x: x.str.replace('/h', '', regex=True))\n",
        "df = df.apply(lambda x: x.str.replace(',', '', regex=True))\n",
        "df = df.fillna(0)\n",
        "\n",
        "df['Alliance Influence'] = df['Alliance Influence'].astype('int')\n",
        "for i in range(len(buffCategories)):\n",
        "    df[buffCategories[i]] = df[buffCategories[i]].astype(float)\n",
        "for i in range(len(productionCategoriesRenamed)):\n",
        "    df[productionCategoriesRenamed[i]] = df[productionCategoriesRenamed[i]].astype('int')\n",
        "\n",
        "df.to_csv('UpdatedLostIslandBuildings.csv', index=False)"
      ]
    },
    {
      "cell_type": "code",
      "execution_count": 85,
      "metadata": {},
      "outputs": [],
      "source": [
        "#Convert csv file to SQLite database\n",
        "import sqlite3 as sq3\n",
        "\n",
        "updatedDf = pd.read_csv('UpdatedLostIslandBuildings.csv')\n",
        "conn = sq3.connect('LostIslandBuildings.db')\n",
        "updatedDf.to_sql('Buildings', conn, if_exists='replace', index=False)\n",
        "conn.close()"
      ]
    }
  ],
  "metadata": {
    "kernelspec": {
      "display_name": "Python 3",
      "language": "python",
      "name": "python3"
    },
    "language_info": {
      "codemirror_mode": {
        "name": "ipython",
        "version": 3
      },
      "file_extension": ".py",
      "mimetype": "text/x-python",
      "name": "python",
      "nbconvert_exporter": "python",
      "pygments_lexer": "ipython3",
      "version": "3.10.11"
    }
  },
  "nbformat": 4,
  "nbformat_minor": 4
}
